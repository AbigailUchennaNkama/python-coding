{
 "cells": [
  {
   "cell_type": "code",
   "execution_count": 3,
   "metadata": {},
   "outputs": [
    {
     "name": "stdout",
     "output_type": "stream",
     "text": [
      "This is an even number.\n"
     ]
    }
   ],
   "source": [
    "#Exercise 1\n",
    "\"\"\"Write a program that works out whether if a given number is an odd or even number.\"\"\"\n",
    "\n",
    "number = int(input(\"Which number do you want to check? \"))\n",
    "\n",
    "if number % 2 == 0:\n",
    "    print(\"This is an even number.\")\n",
    "else:\n",
    "    print(\"This is an odd number.\")"
   ]
  },
  {
   "cell_type": "code",
   "execution_count": 11,
   "metadata": {},
   "outputs": [
    {
     "name": "stdout",
     "output_type": "stream",
     "text": [
      "Your BMI is 28, you are slightly overweight.\n"
     ]
    }
   ],
   "source": [
    "#EXERCISE 2\n",
    "\"\"\"Write a program that interprets the Body Mass Index (BMI) based on a user's weight and height.\n",
    "\n",
    "It should tell them the interpretation of their BMI based on the BMI value.\n",
    "\n",
    "Under 18.5 they are underweight\n",
    "Over 18.5 but below 25 they have a normal weight\n",
    "Over 25 but below 30 they are slightly overweight\n",
    "Over 30 but below 35 they are obese\n",
    "Above 35 they are clinically obese.\"\"\"\n",
    "\n",
    "height = float(input(\"enter your height in m: \"))\n",
    "weight = float(input(\"enter your weight in kg: \"))\n",
    "# 🚨 Don't change the code above 👆\n",
    "\n",
    "#Write your code below this line 👇\n",
    "\n",
    "BMI = round(weight / (height * height))\n",
    "if BMI < 18.5:\n",
    "    print(f\"Your BMI is {BMI}, you are underweight.\")\n",
    "elif BMI > 18.5 and BMI < 25:\n",
    "    print(f\"Your BMI is {BMI}, you have a normal weight.\")\n",
    "elif BMI > 25 and BMI < 30:\n",
    "    print(f\"Your BMI is {BMI}, you are slightly overweight.\")\n",
    "elif BMI > 30 and BMI < 35:\n",
    "    print(f\"Your BMI is {BMI}, you are obese.\")\n",
    "else:\n",
    "    print(f\"Your BMI is {BMI}, you are clinically obese.\")"
   ]
  }
 ],
 "metadata": {
  "kernelspec": {
   "display_name": "lewagon",
   "language": "python",
   "name": "python3"
  },
  "language_info": {
   "codemirror_mode": {
    "name": "ipython",
    "version": 3
   },
   "file_extension": ".py",
   "mimetype": "text/x-python",
   "name": "python",
   "nbconvert_exporter": "python",
   "pygments_lexer": "ipython3",
   "version": "3.10.6"
  },
  "orig_nbformat": 4,
  "vscode": {
   "interpreter": {
    "hash": "6c6076ca528958c626ffbbfcdc97582510e99496ffd964c741923e230947daa9"
   }
  }
 },
 "nbformat": 4,
 "nbformat_minor": 2
}
