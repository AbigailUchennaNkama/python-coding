{
 "cells": [
  {
   "cell_type": "code",
   "execution_count": 3,
   "metadata": {},
   "outputs": [
    {
     "name": "stdout",
     "output_type": "stream",
     "text": [
      "This is an even number.\n"
     ]
    }
   ],
   "source": [
    "#Exercise 1 - Even or Odd number\n",
    "\"\"\"Write a program that works out whether if a given number is an odd or even number.\"\"\"\n",
    "\n",
    "number = int(input(\"Which number do you want to check? \"))\n",
    "\n",
    "if number % 2 == 0:\n",
    "    print(\"This is an even number.\")\n",
    "else:\n",
    "    print(\"This is an odd number.\")"
   ]
  },
  {
   "cell_type": "code",
   "execution_count": 11,
   "metadata": {},
   "outputs": [
    {
     "name": "stdout",
     "output_type": "stream",
     "text": [
      "Your BMI is 28, you are slightly overweight.\n"
     ]
    }
   ],
   "source": [
    "#EXERCISE 2 - BMI Calculator\n",
    "\"\"\"Write a program that interprets the Body Mass Index (BMI) based on a user's weight and height.\n",
    "\n",
    "It should tell them the interpretation of their BMI based on the BMI value.\n",
    "\n",
    "Under 18.5 they are underweight\n",
    "Over 18.5 but below 25 they have a normal weight\n",
    "Over 25 but below 30 they are slightly overweight\n",
    "Over 30 but below 35 they are obese\n",
    "Above 35 they are clinically obese.\"\"\"\n",
    "\n",
    "height = float(input(\"enter your height in m: \"))\n",
    "weight = float(input(\"enter your weight in kg: \"))\n",
    "# 🚨 Don't change the code above 👆\n",
    "\n",
    "#Write your code below this line 👇\n",
    "\n",
    "BMI = round(weight / (height * height))\n",
    "if BMI < 18.5:\n",
    "    print(f\"Your BMI is {BMI}, you are underweight.\")\n",
    "elif BMI > 18.5 and BMI < 25:\n",
    "    print(f\"Your BMI is {BMI}, you have a normal weight.\")\n",
    "elif BMI > 25 and BMI < 30:\n",
    "    print(f\"Your BMI is {BMI}, you are slightly overweight.\")\n",
    "elif BMI > 30 and BMI < 35:\n",
    "    print(f\"Your BMI is {BMI}, you are obese.\")\n",
    "else:\n",
    "    print(f\"Your BMI is {BMI}, you are clinically obese.\")"
   ]
  },
  {
   "cell_type": "code",
   "execution_count": 13,
   "metadata": {},
   "outputs": [],
   "source": [
    "! git add main.ipynb\n",
    "\n"
   ]
  },
  {
   "cell_type": "code",
   "execution_count": null,
   "metadata": {},
   "outputs": [],
   "source": [
    "#EXERCISE 3 -Pizza order program\n",
    "\"\"\"\n",
    "Congratulations, you've got a job at Python Pizza. Your first job is to build an automatic pizza order program.\n",
    "Based on a user's order, work out their final bill.\n",
    "Small Pizza: $15\n",
    "Medium Pizza: $20\n",
    "Large Pizza: $25\n",
    "Pepperoni for Small Pizza: +$2\n",
    "Pepperoni for Medium or Large Pizza: +$3\n",
    "Extra cheese for any size pizza: + $1\n",
    "\"\"\"\n",
    "\n",
    "print(\"Welcome to Python Pizza Deliveries!\")\n",
    "size = input(\"What size pizza do you want? S, M, or L \")\n",
    "add_pepperoni = input(\"Do you want pepperoni? Y or N \")\n",
    "extra_cheese = input(\"Do you want extra cheese? Y or N \")\n",
    "\n",
    "if size == \"S\":\n",
    "    small_size = 15 \n",
    "    if add_pepperoni == \"Y\":\n",
    "        small_size += 2\n",
    "    if extra_cheese == \"Y\":\n",
    "        small_size += 1 \n",
    "    print(f\"Your final bill is: ${small_size}.\")\n",
    "elif size == \"M\":\n",
    "    medium_size = 20 \n",
    "    if add_pepperoni == \"Y\":\n",
    "        medium_size += 3\n",
    "    if extra_cheese == \"Y\":\n",
    "        medium_size += 1 \n",
    "    print(f\"Your final bill is: ${medium_size}.\")\n",
    "elif size == \"L\":\n",
    "    large_size = 25 \n",
    "    if add_pepperoni == \"Y\":\n",
    "        large_size += 3\n",
    "    if extra_cheese == \"Y\":\n",
    "        large_size += 1 \n",
    "    print(f\"Your final bill is: ${large_size}.\")"
   ]
  },
  {
   "cell_type": "code",
   "execution_count": null,
   "metadata": {},
   "outputs": [],
   "source": [
    "#EXERCISE 4- Leap year calculator\n",
    "\"\"\"Write a program that works out whether if a given year is a leap year.\n",
    "This is how you work out whether if a particular year is a leap year.\n",
    "\n",
    "On every year that is evenly divisible by 4 \n",
    "**except** every year that is evenly divisible by 100 \n",
    "**unless** the year is also evenly divisible by 400\n",
    "\"\"\"\n",
    "year = int(input(\"Which year do you want to check? \"))\n",
    "if year % 4 == 0 or year % 100 == 0 and year % 400 == 0:\n",
    "    print(\"Leap year.\")\n",
    "else:\n",
    "    print(\"Not leap year.\")"
   ]
  },
  {
   "cell_type": "code",
   "execution_count": null,
   "metadata": {},
   "outputs": [],
   "source": [
    "#EXERCISE 5 -Love Calculator\n",
    "\"\"\"write a program that tests the compatibility between two people.\n",
    "\"\"\"\n",
    "print(\"Welcome to the Love Calculator!\")\n",
    "name1 = input(\"What is your name? \\n\")\n",
    "name2 = input(\"What is their name? \\n\")\n",
    "\n",
    "names = (name1 + name2).lower()\n",
    "t = names.count('t')\n",
    "r = names.count('r')\n",
    "u = names.count('u')\n",
    "e = names.count('e')\n",
    "true = t + r + u + e\n",
    "\n",
    "l = names.count('l')\n",
    "o = names.count('o')\n",
    "v = names.count('v')\n",
    "e = names.count('e')\n",
    "love = l + o + v + e\n",
    "\n",
    "love_score = int(str(true) + str(love))\n",
    "#love_score = int(love_score)\n",
    "print(f\"{name1} and {name2}\")\n",
    "if love_score < 10 or love_score > 90:\n",
    "    print(f\"Your score is {love_score}, you go together like coke and mentos.\")\n",
    "elif love_score >= 40 and love_score <= 50:\n",
    "    print(f\"Your score is {love_score}, you are alright together.\")\n",
    "else:\n",
    "    print(f\"Your score is {love_score}.\")"
   ]
  }
 ],
 "metadata": {
  "kernelspec": {
   "display_name": "lewagon",
   "language": "python",
   "name": "python3"
  },
  "language_info": {
   "codemirror_mode": {
    "name": "ipython",
    "version": 3
   },
   "file_extension": ".py",
   "mimetype": "text/x-python",
   "name": "python",
   "nbconvert_exporter": "python",
   "pygments_lexer": "ipython3",
   "version": "3.10.6"
  },
  "orig_nbformat": 4,
  "vscode": {
   "interpreter": {
    "hash": "6c6076ca528958c626ffbbfcdc97582510e99496ffd964c741923e230947daa9"
   }
  }
 },
 "nbformat": 4,
 "nbformat_minor": 2
}
